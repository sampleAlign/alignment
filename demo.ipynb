{
 "cells": [
  {
   "cell_type": "code",
   "execution_count": null,
   "id": "91ebca8a-8af3-46b7-865b-292438cb9513",
   "metadata": {},
   "outputs": [],
   "source": [
    "from ocsExtractor import Extractor\n",
    "from OCMC import OCMC"
   ]
  },
  {
   "cell_type": "code",
   "execution_count": null,
   "id": "77ae1995-0ae9-4445-aa46-1b355c07bc9a",
   "metadata": {},
   "outputs": [],
   "source": [
    "extractor = Extractor() # OCS extractor\n",
    "angles = list(range(0, 180)) # rotation angle\n",
    "proj_path=r'E:\\zznsrl\\jitter\\data\\XRF\\XANES\\8348_enh_enh'\n",
    "save_path=r'E:\\zznsrl\\jitter\\data\\XRF\\XANES\\zz'\n",
    "pos_mode=0 # selection of start_angle_idx parameter\n",
    "multi=True # multi-process acceleration.\n",
    "sampling=1 # sample rate\n",
    "resize=[512, 512] # [row, column]"
   ]
  },
  {
   "cell_type": "code",
   "execution_count": null,
   "id": "4992a050-2dc5-49f7-b8e6-22ecc2c49624",
   "metadata": {},
   "outputs": [],
   "source": [
    "ocmc = OCMC(proj_path=proj_path, save_path=save_path, pos_mode=pos_mode,\n",
    "            angles=angles, extractor=extractor, multi=multi, sampling=sampling, resize=resize)"
   ]
  },
  {
   "cell_type": "code",
   "execution_count": null,
   "id": "22dd407b-d484-4030-ab05-2959589484ba",
   "metadata": {},
   "outputs": [],
   "source": [
    "ocmc.correction()"
   ]
  }
 ],
 "metadata": {
  "kernelspec": {
   "display_name": "Python 3 (ipykernel)",
   "language": "python",
   "name": "python3"
  },
  "language_info": {
   "codemirror_mode": {
    "name": "ipython",
    "version": 3
   },
   "file_extension": ".py",
   "mimetype": "text/x-python",
   "name": "python",
   "nbconvert_exporter": "python",
   "pygments_lexer": "ipython3",
   "version": "3.8.8"
  }
 },
 "nbformat": 4,
 "nbformat_minor": 5
}
